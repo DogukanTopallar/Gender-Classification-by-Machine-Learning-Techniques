{
 "cells": [
  {
   "cell_type": "code",
   "execution_count": null,
   "metadata": {},
   "outputs": [],
   "source": [
    "import numpy as np \n",
    "import pandas as pd \n",
    "import matplotlib.pyplot as plt\n",
    "import seaborn as sns\n",
    "from sklearn.neighbors import KNeighborsClassifier\n",
    "from sklearn.model_selection import train_test_split\n",
    "from numpy import random\n",
    "from random import randint\n",
    "from sklearn.metrics import confusion_matrix, accuracy_score\n",
    "from sklearn.svm import SVC\n",
    "from sklearn.tree import DecisionTreeClassifier\n"
   ]
  },
  {
   "cell_type": "code",
   "execution_count": null,
   "metadata": {},
   "outputs": [],
   "source": [
    "data = pd.read_csv(r\"C:\\Users\\Dogukan\\Desktop\\DERSLER\\BM SON SINIF\\YAPAY ZEKA\\FinalOdev\\Gender-Classification-by-Machine-Learning-Tecniques\\voice.csv\")\n",
    "columns = data.columns.tolist()\n",
    "data.info()"
   ]
  },
  {
   "cell_type": "code",
   "execution_count": null,
   "metadata": {},
   "outputs": [],
   "source": [
    "#female için 1 male için 0 digit\n",
    "data.label = [1 if each == \"female\" else 0 for each in data.label]\n",
    "\n",
    "data.info()\n",
    "#label row object dtype iken int64'e döndü"
   ]
  },
  {
   "cell_type": "code",
   "execution_count": null,
   "metadata": {},
   "outputs": [],
   "source": [
    "#test-train verileri için x ve y'ler\n",
    "y = data.label.values\n",
    "x_data = data.drop([\"label\"],axis=1)\n",
    "\n",
    "#norm\n",
    "x = (x_data - np.min(x_data)) / (np.max(x_data)).values\n",
    "\n",
    "from sklearn.model_selection import train_test_split\n",
    "\n",
    "x_train, x_test, y_train, y_test = train_test_split(x,y,test_size=0.2,random_state = 42)\n",
    "\n",
    "#test_size=0.2 means %20 test datas, %80 train datas\n",
    "#Sonuçların görselleştirilmesi için\n",
    "method_names = []\n",
    "method_scores = []"
   ]
  },
  {
   "attachments": {},
   "cell_type": "markdown",
   "metadata": {},
   "source": [
    "K NEAREST NEIGHBORS "
   ]
  },
  {
   "attachments": {},
   "cell_type": "markdown",
   "metadata": {},
   "source": [
    "K Değeri = 3 için;"
   ]
  },
  {
   "cell_type": "code",
   "execution_count": null,
   "metadata": {},
   "outputs": [],
   "source": [
    "\"\"\"KNN (K-Nearest Neighbour) CLASSIFICATION\"\"\"\n",
    "from sklearn.neighbors import KNeighborsClassifier\n",
    "knn = KNeighborsClassifier(n_neighbors=3)\n",
    "knn.fit(x_train,y_train)\n",
    "print(\"Score for Number of Neighbors = 3: {}\".format(knn.score(x_test,y_test)))\n",
    "method_names.append(\"KNN_3\")\n",
    "method_scores.append(knn.score(x_test,y_test))\n",
    "\n",
    "#Confusion Matrix\n",
    "y_pred = knn.predict(x_test)\n",
    "conf_mat = confusion_matrix(y_test,y_pred)\n",
    "\n",
    "#Visualization Confusion Matrix\n",
    "f, ax = plt.subplots(figsize=(5,5))\n",
    "sns.heatmap(conf_mat,annot=True,linewidths=0.5,linecolor=\"red\",fmt=\".0f\",ax=ax)\n",
    "plt.xlabel(\"Predicted Values\")\n",
    "plt.ylabel(\"True Values\")\n",
    "plt.show()"
   ]
  },
  {
   "attachments": {},
   "cell_type": "markdown",
   "metadata": {},
   "source": [
    "En iyi K değerini bulma;"
   ]
  },
  {
   "cell_type": "code",
   "execution_count": null,
   "metadata": {},
   "outputs": [],
   "source": [
    "score_list=[]\n",
    "for each in range(1,50):\n",
    "    knn2 = KNeighborsClassifier(n_neighbors=each)\n",
    "    knn2.fit(x_train,y_train)\n",
    "    score_list.append(knn2.score(x_test,y_test))\n",
    "\n",
    "plt.plot(range(1,50),score_list)\n",
    "plt.xlabel(\"k values\")\n",
    "plt.ylabel(\"score\")"
   ]
  },
  {
   "attachments": {},
   "cell_type": "markdown",
   "metadata": {},
   "source": [
    "0-5 arası gözlemlenir"
   ]
  },
  {
   "cell_type": "code",
   "execution_count": null,
   "metadata": {},
   "outputs": [],
   "source": [
    "score_list=[]\n",
    "for each in range(1,5):\n",
    "    knn2 = KNeighborsClassifier(n_neighbors=each)\n",
    "    knn2.fit(x_train,y_train)\n",
    "    score_list.append(knn2.score(x_test,y_test))\n",
    "\n",
    "plt.plot(range(1,5),score_list)\n",
    "plt.xlabel(\"k values\")\n",
    "plt.ylabel(\"score\")"
   ]
  },
  {
   "attachments": {},
   "cell_type": "markdown",
   "metadata": {},
   "source": [
    "K değeri en iyi K=2 olarak belirlendi."
   ]
  },
  {
   "attachments": {},
   "cell_type": "markdown",
   "metadata": {},
   "source": [
    "KNN"
   ]
  },
  {
   "cell_type": "code",
   "execution_count": null,
   "metadata": {},
   "outputs": [],
   "source": [
    "def KNN():\n",
    "    knn = KNeighborsClassifier(n_neighbors=2)\n",
    "\n",
    "    #test-train verileri için x ve y'ler\n",
    "    x_data = data.drop([\"label\"],axis=1)\n",
    "    x = (x_data - np.min(x_data)) / (np.max(x_data)).values\n",
    "    y = data.label.values\n",
    "\n",
    "    #normalization\n",
    "    x = (x_data - np.min(x_data)) / (np.max(x_data)).values\n",
    "\n",
    "    x_train, x_test, y_train, y_test = train_test_split(x,y,test_size=0.2,random_state = 42)\n",
    "    #test_size=0.2 means %20 test datas, %80 train datas\n",
    "    \n",
    "    knn.fit(x_train,y_train)\n",
    "    \n",
    "    print(\"Score for Number of Neighbors = 2: {}\".format(knn.score(x_test,y_test)))\n",
    "    # score = knn.score(x_test,y_test)\n",
    "\n",
    "    #Sonuçlar için ortak dizide toplanır.\n",
    "    method_names.append(\"KNN_BEST(2)\")\n",
    "    method_scores.append(knn.score(x_test,y_test))\n",
    "\n",
    "    #Confusion Matrix\n",
    "    y_pred = knn.predict(x_test)\n",
    "    conf_mat = confusion_matrix(y_test,y_pred)\n",
    "\n",
    "    #Visualization Confusion Matrix\n",
    "    f, ax = plt.subplots(figsize=(5,5))\n",
    "    sns.heatmap(conf_mat,annot=True,linewidths=0.5,linecolor=\"red\",fmt=\".0f\",ax=ax)\n",
    "    plt.xlabel(\"Predicted Values\")\n",
    "    plt.ylabel(\"True Values\")\n",
    "    plt.show()"
   ]
  },
  {
   "attachments": {},
   "cell_type": "markdown",
   "metadata": {},
   "source": [
    "KNN WITH HC"
   ]
  },
  {
   "cell_type": "code",
   "execution_count": null,
   "metadata": {},
   "outputs": [],
   "source": [
    "def KNN_with_HC():\n",
    "    min = 0\n",
    "    max = 0\n",
    "    knn = KNeighborsClassifier(n_neighbors=2)\n",
    "    for i in range(0,1000):\n",
    "        random_selected_column = random.choice(columns, randint(1 , 20))\n",
    "        x_data = data.drop([\"label\"],axis=1)\n",
    "        x = (x_data - np.min(x_data)) / (np.max(x_data)).values\n",
    "        x = data[random_selected_column].values\n",
    "        y = data.label.values\n",
    "        x_train, x_test, y_train, y_test = train_test_split(x,y,test_size=0.2,random_state = 42)\n",
    "        if(len(x_train) != 0 and len(y_train) !=0):\n",
    "            knn.fit(x_train,y_train)\n",
    "            y_pred = knn.predict(x_test)\n",
    "            score = knn.score(x_test,y_test)\n",
    "            \n",
    "            if(i == 0):\n",
    "                min = score\n",
    "                max = score\n",
    "            if(score>max):\n",
    "                max = score\n",
    "            if(score<min):\n",
    "                min=score\n",
    "            \n",
    "    method_names.append(\"KNN_HC\")\n",
    "    method_scores.append(knn.score(max))\n",
    "    print(\"Min Score With HC for Number of Neighbors = 2: %.6f\" % (min*100))\n",
    "    print(\"Max Score With HC for Number of Neighbors = 2: %.6f\" % (max*100))\n"
   ]
  },
  {
   "attachments": {},
   "cell_type": "markdown",
   "metadata": {},
   "source": [
    "KNN WITH SA"
   ]
  },
  {
   "cell_type": "code",
   "execution_count": null,
   "metadata": {},
   "outputs": [],
   "source": [
    "def KNN_With_SA():\n",
    "    def objective_function(solution):\n",
    "        knn = KNeighborsClassifier(n_neighbors=2)\n",
    "        if(sum(solution)==0):\n",
    "            return 0\n",
    "        knn.fit(x_train,y_train)\n",
    "        score = knn.score(x_test,y_test)\n",
    "        return score\n",
    "        \n",
    "\n",
    "\n",
    "    def neighborhood_function(solution, obj_val):\n",
    "        neighbors = []\n",
    "        for i in range(len(solution)):\n",
    "            temp_sol = solution.copy()\n",
    "            temp_sol[i] = ~temp_sol[i]\n",
    "            if ( objective_function(temp_sol) < obj_val ):\n",
    "                neighbors.append(temp_sol)\n",
    "        if len(neighbors) == 0:\n",
    "            return None\n",
    "        rand_ind = np.random.randint(0, len(neighbors))\n",
    "        return neighbors[rand_ind]\n",
    "        \n",
    "\n",
    "\n",
    "    initial_temp = 1\n",
    "    cooling_coef = 0.8\n",
    "\n",
    "    solution = np.random.rand(600)>0.5\n",
    "    obj_val = objective_function(solution)\n",
    "\n",
    "    best_solution = solution.copy()\n",
    "    best_val = obj_val\n",
    "\n",
    "    convergence = []\n",
    "    for i in range(1000):\n",
    "        candidate_solution = neighborhood_function(solution, obj_val)\n",
    "        if candidate_solution is None:\n",
    "            break\n",
    "        cand_val = objective_function(candidate_solution)\n",
    "        \n",
    "        if(cand_val <obj_val ):\n",
    "            obj_val, solution = cand_val, candidate_solution.copy()\n",
    "            if(cand_val < best_val):\n",
    "                best_val, best_solution = cand_val, candidate_solution.copy()\n",
    "        else:\n",
    "            if initial_temp/ ( 1 + np.log(i+1) ) > np.random.random():\n",
    "                obj_val, solution = cand_val, candidate_solution.copy()\n",
    "        convergence.append(best_val)\n",
    "        \n",
    "        \n",
    "        \n",
    "    method_names.append(\"KNN_SA\")\n",
    "    method_scores.append(best_val)    \n",
    "    print(best_val)"
   ]
  },
  {
   "cell_type": "code",
   "execution_count": null,
   "metadata": {},
   "outputs": [],
   "source": [
    "KNN_With_SA()"
   ]
  },
  {
   "cell_type": "code",
   "execution_count": null,
   "metadata": {},
   "outputs": [],
   "source": [
    "KNN()\n",
    "KNN_with_HC()"
   ]
  },
  {
   "attachments": {},
   "cell_type": "markdown",
   "metadata": {},
   "source": [
    "SUPPORT VECTOR MACHINE (SVM)"
   ]
  },
  {
   "cell_type": "code",
   "execution_count": null,
   "metadata": {},
   "outputs": [],
   "source": [
    "data = pd.read_csv(r\"C:\\Users\\Dogukan\\Desktop\\DERSLER\\BM SON SINIF\\YAPAY ZEKA\\FinalOdev\\voice.csv\")\n",
    "columns = data.columns.tolist()\n",
    "data.label = [1 if each == \"female\" else 0 for each in data.label]\n",
    "\n",
    "\n",
    "x_data = data.drop([\"label\"],axis=1)\n",
    "x = (x_data - np.min(x_data)) / (np.max(x_data)).values\n",
    "y = data.label.values\n",
    "\n",
    "x_train, x_test, y_train, y_test = train_test_split(x,y,test_size=0.2,random_state = 42)\n"
   ]
  },
  {
   "attachments": {},
   "cell_type": "markdown",
   "metadata": {},
   "source": [
    "SVM "
   ]
  },
  {
   "cell_type": "code",
   "execution_count": null,
   "metadata": {},
   "outputs": [],
   "source": [
    "def SVM():\n",
    "    svm = SVC(random_state=42)\n",
    "    svm.fit(x_train,y_train)\n",
    "    print(\"SVM Classification Score is: {}\".format(svm.score(x_test,y_test)))\n",
    "    method_names.append(\"SVM\")\n",
    "    method_scores.append(svm.score(x_test,y_test))\n",
    "\n",
    "    #Confusion Matrix\n",
    "    y_pred = svm.predict(x_test)\n",
    "    conf_mat = confusion_matrix(y_test,y_pred)\n",
    "    #Visualization Confusion Matrix\n",
    "    f, ax = plt.subplots(figsize=(5,5))\n",
    "    sns.heatmap(conf_mat,annot=True,linewidths=0.5,linecolor=\"red\",fmt=\".0f\",ax=ax)\n",
    "    plt.xlabel(\"Predicted Values\")\n",
    "    plt.ylabel(\"True Values\")\n",
    "    plt.show()"
   ]
  },
  {
   "attachments": {},
   "cell_type": "markdown",
   "metadata": {},
   "source": [
    "SVM WITH HC"
   ]
  },
  {
   "cell_type": "code",
   "execution_count": null,
   "metadata": {},
   "outputs": [],
   "source": [
    "def SVM_With_HC():\n",
    "    min = 0\n",
    "    max = 0\n",
    "    svm = SVC(random_state=42)\n",
    "    for i in range(0,1000):\n",
    "        random_selected_column = random.choice(columns, randint(1 , 20))\n",
    "        x_data = data.drop([\"label\"],axis=1)\n",
    "        x = (x_data - np.min(x_data)) / (np.max(x_data)).values\n",
    "        x = data[random_selected_column].values\n",
    "        y = data.label.values\n",
    "        x_train, x_test, y_train, y_test = train_test_split(x,y,test_size=0.2,random_state = 42)\n",
    "        if(len(x_train) != 0 and len(y_train) !=0):\n",
    "            svm.fit(x_train,y_train)\n",
    "            y_pred = svm.predict(x_test)\n",
    "            score = svm.score(x_test,y_test)\n",
    "            if(i == 0):\n",
    "                min = score\n",
    "                max = score\n",
    "            if(score>max):\n",
    "                max = score\n",
    "            if(score<min):\n",
    "                min=score\n",
    "    method_names.append(\"SVM_HC\")\n",
    "    method_scores.append(svm.score(max))\n",
    "    print(\"Min SVM Classification Score is: %.6f\" % (min*100))\n",
    "    print(\"Max SVM Classification Score is: %.6f\" % (max*100))"
   ]
  },
  {
   "attachments": {},
   "cell_type": "markdown",
   "metadata": {},
   "source": [
    "SVM WITH SA"
   ]
  },
  {
   "cell_type": "code",
   "execution_count": null,
   "metadata": {},
   "outputs": [],
   "source": [
    "def SVM_With_SA():\n",
    "    def objective_function(solution):\n",
    "        svm = SVC(random_state=42)\n",
    "        if(sum(solution)==0):\n",
    "            return 0\n",
    "        svm.fit(x_train,y_train)\n",
    "        score = svm.score(x_test, y_test)\n",
    "        return score\n",
    "        \n",
    "\n",
    "\n",
    "    def neighborhood_function(solution, obj_val):\n",
    "        neighbors = []\n",
    "        for i in range(len(solution)):\n",
    "            temp_sol = solution.copy()\n",
    "            temp_sol[i] = ~temp_sol[i]\n",
    "            if ( objective_function(temp_sol) < obj_val ):\n",
    "                neighbors.append(temp_sol)\n",
    "        if len(neighbors) == 0:\n",
    "            return None\n",
    "        rand_ind = np.random.randint(0, len(neighbors))\n",
    "        return neighbors[rand_ind]\n",
    "        \n",
    "\n",
    "\n",
    "    initial_temp = 1\n",
    "    cooling_coef = 0.8\n",
    "\n",
    "    solution = np.random.rand(600)>0.5\n",
    "    obj_val = objective_function(solution)\n",
    "\n",
    "    best_solution = solution.copy()\n",
    "    best_val = obj_val\n",
    "\n",
    "    convergence = []\n",
    "    for i in range(1000):\n",
    "        candidate_solution = neighborhood_function(solution, obj_val)\n",
    "        if candidate_solution is None:\n",
    "            break\n",
    "        cand_val = objective_function(candidate_solution)\n",
    "        \n",
    "        if(cand_val <obj_val ):\n",
    "            obj_val, solution = cand_val, candidate_solution.copy()\n",
    "            if(cand_val < best_val):\n",
    "                best_val, best_solution = cand_val, candidate_solution.copy()\n",
    "        else:\n",
    "            if initial_temp/ ( 1 + np.log(i+1) ) > np.random.random():\n",
    "                obj_val, solution = cand_val, candidate_solution.copy()\n",
    "        convergence.append(best_val)\n",
    "        \n",
    "        \n",
    "        \n",
    "    method_names.append(\"SVM_SA\")\n",
    "    method_scores.append(best_val)    \n",
    "    print(best_val)"
   ]
  },
  {
   "cell_type": "code",
   "execution_count": null,
   "metadata": {},
   "outputs": [],
   "source": [
    "SVM()\n",
    "SVM_With_HC()\n",
    "SVM_With_SA()"
   ]
  },
  {
   "attachments": {},
   "cell_type": "markdown",
   "metadata": {},
   "source": [
    "DECISION TREE"
   ]
  },
  {
   "cell_type": "code",
   "execution_count": null,
   "metadata": {},
   "outputs": [],
   "source": [
    "def DecisionTree():\n",
    "    dec_tree = DecisionTreeClassifier()\n",
    "    dec_tree.fit(x_train,y_train)\n",
    "    print(\"Decision Tree Classification Score: \",dec_tree.score(x_test,y_test))\n",
    "    method_names.append(\"Decision Tree\")\n",
    "    method_scores.append(dec_tree.score(x_test,y_test))\n",
    "\n",
    "    #Confusion Matrix\n",
    "    y_pred = dec_tree.predict(x_test)\n",
    "    conf_mat = confusion_matrix(y_test,y_pred)\n",
    "    #Visualization Confusion Matrix\n",
    "    f, ax = plt.subplots(figsize=(5,5))\n",
    "    sns.heatmap(conf_mat,annot=True,linewidths=0.5,linecolor=\"red\",fmt=\".0f\",ax=ax)\n",
    "    plt.xlabel(\"Predicted Values\")\n",
    "    plt.ylabel(\"True Values\")\n",
    "    plt.show()"
   ]
  },
  {
   "attachments": {},
   "cell_type": "markdown",
   "metadata": {},
   "source": [
    "DECISION TREE WITH HC"
   ]
  },
  {
   "cell_type": "code",
   "execution_count": null,
   "metadata": {},
   "outputs": [],
   "source": [
    "def DecisionTree_With_HC():\n",
    "    min = 0\n",
    "    max = 0\n",
    "    dec_tree = DecisionTreeClassifier()\n",
    "    for i in range(0,1000):\n",
    "        random_selected_column = random.choice(columns, randint(1 , 20))\n",
    "        x_data = data.drop([\"label\"],axis=1)\n",
    "        x = (x_data - np.min(x_data)) / (np.max(x_data)).values\n",
    "        x = data[random_selected_column].values\n",
    "        y = data.label.values\n",
    "        x_train, x_test, y_train, y_test = train_test_split(x,y,test_size=0.2,random_state = 42)\n",
    "        if(len(x_train) != 0 and len(y_train) !=0):\n",
    "            dec_tree.fit(x_train,y_train)\n",
    "            y_pred = dec_tree.predict(x_test)\n",
    "            score = dec_tree.score(x_test, y_test)\n",
    "            #score = accuracy_score(y_test ,y_pred)\n",
    "            if(i == 0):\n",
    "                min = score\n",
    "                max = score\n",
    "            if(score>max):\n",
    "                max = score\n",
    "            if(score<min):\n",
    "                min=score\n",
    "    method_names.append(\"Decision Tree_HC\")\n",
    "    method_scores.append(max)\n",
    "    print(\"Min Decision Tree With HC Classification Score: %.6f \" %(min*100))\n",
    "    print(\"Max Decision Tree With HC Classification Score: %.6f \" %(max*100))"
   ]
  },
  {
   "attachments": {},
   "cell_type": "markdown",
   "metadata": {},
   "source": [
    "DECISION TREE WITH SA"
   ]
  },
  {
   "cell_type": "code",
   "execution_count": 35,
   "metadata": {},
   "outputs": [],
   "source": [
    "def DecisionTree_With_SA():\n",
    "    def objective_function(solution):\n",
    "        dec_tree = DecisionTreeClassifier()\n",
    "        if(sum(solution)==0):\n",
    "            return 0\n",
    "        dec_tree.fit(x_train,y_train)\n",
    "        score = dec_tree.score(x_test, y_test)\n",
    "        return score\n",
    "        \n",
    "\n",
    "\n",
    "    def neighborhood_function(solution, obj_val):\n",
    "        neighbors = []\n",
    "        for i in range(len(solution)):\n",
    "            temp_sol = solution.copy()\n",
    "            temp_sol[i] = ~temp_sol[i]\n",
    "            if ( objective_function(temp_sol) < obj_val ):\n",
    "                neighbors.append(temp_sol)\n",
    "        if len(neighbors) == 0:\n",
    "            return None\n",
    "        rand_ind = np.random.randint(0, len(neighbors))\n",
    "        return neighbors[rand_ind]\n",
    "        \n",
    "\n",
    "\n",
    "    initial_temp = 1\n",
    "    cooling_coef = 0.8\n",
    "\n",
    "    solution = np.random.rand(600)>0.5\n",
    "    obj_val = objective_function(solution)\n",
    "\n",
    "    best_solution = solution.copy()\n",
    "    best_val = obj_val\n",
    "\n",
    "    convergence = []\n",
    "    for i in range(1000):\n",
    "        candidate_solution = neighborhood_function(solution, obj_val)\n",
    "        if candidate_solution is None:\n",
    "            break\n",
    "        cand_val = objective_function(candidate_solution)\n",
    "        \n",
    "        if(cand_val <obj_val ):\n",
    "            obj_val, solution = cand_val, candidate_solution.copy()\n",
    "            if(cand_val < best_val):\n",
    "                best_val, best_solution = cand_val, candidate_solution.copy()\n",
    "        else:\n",
    "            if initial_temp/ ( 1 + np.log(i+1) ) > np.random.random():\n",
    "                obj_val, solution = cand_val, candidate_solution.copy()\n",
    "        convergence.append(best_val)\n",
    "        \n",
    "        \n",
    "        \n",
    "        \n",
    "    print(best_val)"
   ]
  },
  {
   "cell_type": "code",
   "execution_count": null,
   "metadata": {},
   "outputs": [],
   "source": [
    "DecisionTree()\n",
    "DecisionTree_With_HC()\n",
    "DecisionTree_With_SA()"
   ]
  },
  {
   "cell_type": "code",
   "execution_count": null,
   "metadata": {},
   "outputs": [],
   "source": [
    "plt.figure(figsize=(15,10))\n",
    "plt.ylim([0.85,1])\n",
    "plt.bar(method_names,method_scores,width=0.5)\n",
    "plt.xlabel('Method Name')\n",
    "plt.ylabel('Method Score')"
   ]
  }
 ],
 "metadata": {
  "kernelspec": {
   "display_name": ".yzFinalOdev",
   "language": "python",
   "name": "python3"
  },
  "language_info": {
   "codemirror_mode": {
    "name": "ipython",
    "version": 3
   },
   "file_extension": ".py",
   "mimetype": "text/x-python",
   "name": "python",
   "nbconvert_exporter": "python",
   "pygments_lexer": "ipython3",
   "version": "3.11.1"
  },
  "orig_nbformat": 4,
  "vscode": {
   "interpreter": {
    "hash": "6cee1faf817c77b6dc321d0af451ce0f1a8211243c96db7aa22ed67e3c2ddcff"
   }
  }
 },
 "nbformat": 4,
 "nbformat_minor": 2
}
